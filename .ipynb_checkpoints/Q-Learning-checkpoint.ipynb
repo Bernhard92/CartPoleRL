{
 "cells": [
  {
   "cell_type": "markdown",
   "metadata": {},
   "source": [
    "# Time Dependent Q-Learning"
   ]
  },
  {
   "cell_type": "code",
   "execution_count": 7,
   "metadata": {
    "init_cell": true
   },
   "outputs": [],
   "source": [
    "import gym \n",
    "import operator\n",
    "import itertools\n",
    "import random\n",
    "import numpy as np\n",
    "import pandas as pd\n",
    "import seaborn as sns\n",
    "import matplotlib.pyplot as plt\n",
    "from collections import deque\n",
    "from random import randint"
   ]
  },
  {
   "cell_type": "code",
   "execution_count": 8,
   "metadata": {
    "init_cell": true
   },
   "outputs": [],
   "source": [
    "env = gym.make('CartPole-v1')\n",
    "env._max_episode_steps = 5000\n",
    "number_of_games = 10000000\n",
    "ACTION_SPACE = env.action_space.n #number of possible actions\n",
    "OBSERVATION_SPACE = env.observation_space.shape[0] #number of observable variables\n",
    "STATES_IN_INTERVAL = 11"
   ]
  },
  {
   "cell_type": "code",
   "execution_count": null,
   "metadata": {
    "init_cell": true
   },
   "outputs": [],
   "source": [
    "def create_state_intervals():\n",
    "    intervals = np.zeros((OBSERVATION_SPACE, STATES_IN_INTERVAL))\n",
    "    intervals[0] = np.linspace(-4.8, 4.8, STATES_IN_INTERVAL)\n",
    "    intervals[1] = np.linspace(-3.5, 3.5, STATES_IN_INTERVAL)\n",
    "    intervals[2] = np.linspace(-0.42, 0.42, STATES_IN_INTERVAL)\n",
    "    intervals[3] = np.linspace(-4, 4, STATES_IN_INTERVAL)\n",
    "    return intervals"
   ]
  },
  {
   "cell_type": "code",
   "execution_count": null,
   "metadata": {
    "init_cell": true
   },
   "outputs": [],
   "source": [
    "def discretize_observation(observation):\n",
    "    discrete_observation = np.array([np.digitize(observation[index], INTERVALS[index])-1 for index in range(OBSERVATION_SPACE)])\n",
    "    # if some value is under the lower border ignore it and give it min value\n",
    "    discrete_observation = [0 if x<0 else x for x in discrete_observation]\n",
    "    return discrete_observation"
   ]
  },
  {
   "cell_type": "code",
   "execution_count": null,
   "metadata": {
    "init_cell": true
   },
   "outputs": [],
   "source": [
    "def get_all_possible_states():\n",
    "    digits = len(str(STATES_IN_INTERVAL))\n",
    "    state_indices = [str(state_index).zfill(digits) for state_index in range(STATES_IN_INTERVAL)] # all encodings for a single observation variable\n",
    "    states = [state_indices for i in range(OBSERVATION_SPACE)] # for each observation variable a list of its encodings\n",
    "    states = list(itertools.product(*states)) # get all permutation of all state encodings (->list of tuples)\n",
    "    states = [''.join(x) for x in states] # join tuples to a single string\n",
    "    return states"
   ]
  },
  {
   "cell_type": "code",
   "execution_count": null,
   "metadata": {
    "init_cell": true
   },
   "outputs": [],
   "source": [
    "def observation_to_state(observation):\n",
    "    discrete_observation = discretize_observation(observation)\n",
    "    digits = len(str(STATES_IN_INTERVAL))\n",
    "    \n",
    "    state = ''\n",
    "    for state_id in discrete_observation:\n",
    "        if len(str(state_id)) < digits:\n",
    "            state += str(state_id).zfill(digits)\n",
    "        else:\n",
    "            state += str(state_id)\n",
    "    return state"
   ]
  },
  {
   "cell_type": "code",
   "execution_count": null,
   "metadata": {},
   "outputs": [],
   "source": [
    "def init_q_table(states, actions):\n",
    "    q_table = dict()\n",
    "    for state in states:\n",
    "        q_table[state] = dict()\n",
    "        for action in actions:\n",
    "            q_table[state][action] = np.random.randint(10)\n",
    "    return q_table"
   ]
  },
  {
   "cell_type": "code",
   "execution_count": null,
   "metadata": {},
   "outputs": [],
   "source": [
    "def get_action(q_table, state, alpha):\n",
    "    action = 0 if q_table[state][0] > q_table[state][1] else 1\n",
    "    if(random.random() < 0.1):\n",
    "        action += 1 \n",
    "        action %= 2\n",
    "        \n",
    "    return action"
   ]
  },
  {
   "cell_type": "code",
   "execution_count": null,
   "metadata": {},
   "outputs": [],
   "source": [
    "def max_a(q_table, next_state):\n",
    "    return max(q_table[next_state][k] for k in q_table[next_state].keys())"
   ]
  },
  {
   "cell_type": "code",
   "execution_count": null,
   "metadata": {},
   "outputs": [],
   "source": [
    "def update_q_table(q_table, state, action, next_state, reward, alpha, gamma):\n",
    "    q_s_a = q_table[state][action]\n",
    "    q_table[state][action] = q_s_a + alpha * (reward + gamma * max_a(q_table, next_state) - q_s_a)\n",
    "    return q_table"
   ]
  },
  {
   "cell_type": "code",
   "execution_count": null,
   "metadata": {
    "scrolled": false
   },
   "outputs": [
    {
     "name": "stdout",
     "output_type": "stream",
     "text": [
      "EPISODE: 0\n"
     ]
    },
    {
     "name": "stderr",
     "output_type": "stream",
     "text": [
      "C:\\Users\\bejahrer\\AppData\\Local\\Continuum\\miniconda3\\envs\\ml\\lib\\site-packages\\numpy\\core\\fromnumeric.py:3118: RuntimeWarning: Mean of empty slice.\n",
      "  out=out, **kwargs)\n",
      "C:\\Users\\bejahrer\\AppData\\Local\\Continuum\\miniconda3\\envs\\ml\\lib\\site-packages\\numpy\\core\\_methods.py:85: RuntimeWarning: invalid value encountered in double_scalars\n",
      "  ret = ret.dtype.type(ret / rcount)\n"
     ]
    },
    {
     "name": "stdout",
     "output_type": "stream",
     "text": [
      "Episode: 100 Mean-Reward: 47.75 Max-Reward: 233.0 Alpha: 0.03623720178604972\n",
      "Episode: 200 Mean-Reward: 122.08 Max-Reward: 316.0 Alpha: 0.013263987810938228\n",
      "Episode: 300 Mean-Reward: 143.22 Max-Reward: 321.0 Alpha: 0.009910481551887479\n",
      "Episode: 400 Mean-Reward: 136.38 Max-Reward: 361.0 Alpha: 0.009910481551887479\n",
      "Episode: 500 Mean-Reward: 148.01 Max-Reward: 303.0 Alpha: 0.009910481551887479\n",
      "Episode: 600 Mean-Reward: 134.71 Max-Reward: 358.0 Alpha: 0.009910481551887479\n",
      "Episode: 700 Mean-Reward: 142.4 Max-Reward: 465.0 Alpha: 0.009910481551887479\n",
      "Episode: 800 Mean-Reward: 168.41 Max-Reward: 450.0 Alpha: 0.009910481551887479\n",
      "Episode: 900 Mean-Reward: 175.32 Max-Reward: 519.0 Alpha: 0.009910481551887479\n",
      "Episode: 1000 Mean-Reward: 185.49 Max-Reward: 458.0 Alpha: 0.009910481551887479\n",
      "Episode: 1100 Mean-Reward: 176.32 Max-Reward: 353.0 Alpha: 0.009910481551887479\n",
      "Episode: 1200 Mean-Reward: 182.55 Max-Reward: 527.0 Alpha: 0.009910481551887479\n",
      "Episode: 1300 Mean-Reward: 189.73 Max-Reward: 609.0 Alpha: 0.009910481551887479\n",
      "TASK COMPLETED LAST 100 GAMES HAD AN AVERAGE SCORE >=195 ON GAME 1391\n",
      "deque([159.0, 92.0, 609.0, 241.0, 154.0, 136.0, 255.0, 352.0, 204.0, 223.0, 170.0, 166.0, 170.0, 233.0, 152.0, 177.0, 170.0, 247.0, 306.0, 158.0, 219.0, 183.0, 195.0, 194.0, 161.0, 152.0, 230.0, 154.0, 162.0, 151.0, 191.0, 162.0, 203.0, 189.0, 150.0, 199.0, 153.0, 144.0, 86.0, 178.0, 137.0, 196.0, 326.0, 170.0, 153.0, 359.0, 145.0, 199.0, 214.0, 149.0, 71.0, 126.0, 113.0, 109.0, 156.0, 126.0, 176.0, 199.0, 158.0, 185.0, 353.0, 135.0, 141.0, 187.0, 197.0, 200.0, 174.0, 305.0, 160.0, 171.0, 178.0, 136.0, 175.0, 276.0, 23.0, 176.0, 239.0, 229.0, 173.0, 122.0, 214.0, 176.0, 183.0, 284.0, 146.0, 263.0, 262.0, 172.0, 187.0, 178.0, 172.0, 195.0, 150.0, 437.0, 306.0, 152.0, 131.0, 379.0, 190.0, 298.0], maxlen=100)\n",
      "Episode: 1400 Mean-Reward: 186.18 Max-Reward: 437.0 Alpha: 0.009910481551887479\n",
      "Episode: 1500 Mean-Reward: 194.34 Max-Reward: 526.0 Alpha: 0.009910481551887479\n",
      "Episode: 1600 Mean-Reward: 179.05 Max-Reward: 428.0 Alpha: 0.009910481551887479\n",
      "Episode: 1700 Mean-Reward: 184.65 Max-Reward: 438.0 Alpha: 0.009910481551887479\n",
      "Episode: 1800 Mean-Reward: 176.22 Max-Reward: 393.0 Alpha: 0.009910481551887479\n",
      "Episode: 1900 Mean-Reward: 176.26 Max-Reward: 446.0 Alpha: 0.009910481551887479\n",
      "Episode: 2000 Mean-Reward: 188.39 Max-Reward: 371.0 Alpha: 0.009910481551887479\n",
      "Episode: 2100 Mean-Reward: 182.57 Max-Reward: 554.0 Alpha: 0.009910481551887479\n",
      "Episode: 2200 Mean-Reward: 180.85 Max-Reward: 317.0 Alpha: 0.009910481551887479\n",
      "Episode: 2300 Mean-Reward: 175.34 Max-Reward: 354.0 Alpha: 0.009910481551887479\n",
      "Episode: 2400 Mean-Reward: 182.97 Max-Reward: 410.0 Alpha: 0.009910481551887479\n",
      "Episode: 2500 Mean-Reward: 182.19 Max-Reward: 398.0 Alpha: 0.009910481551887479\n",
      "Episode: 2600 Mean-Reward: 181.21 Max-Reward: 325.0 Alpha: 0.009910481551887479\n",
      "Episode: 2700 Mean-Reward: 188.57 Max-Reward: 421.0 Alpha: 0.009910481551887479\n",
      "Episode: 2800 Mean-Reward: 193.82 Max-Reward: 366.0 Alpha: 0.009910481551887479\n",
      "Episode: 2900 Mean-Reward: 194.37 Max-Reward: 360.0 Alpha: 0.009910481551887479\n",
      "Episode: 3000 Mean-Reward: 178.88 Max-Reward: 410.0 Alpha: 0.009910481551887479\n",
      "Episode: 3100 Mean-Reward: 187.11 Max-Reward: 346.0 Alpha: 0.009910481551887479\n",
      "Episode: 3200 Mean-Reward: 177.89 Max-Reward: 351.0 Alpha: 0.009910481551887479\n",
      "Episode: 3300 Mean-Reward: 181.03 Max-Reward: 380.0 Alpha: 0.009910481551887479\n",
      "Episode: 3400 Mean-Reward: 178.97 Max-Reward: 358.0 Alpha: 0.009910481551887479\n",
      "Episode: 3500 Mean-Reward: 189.87 Max-Reward: 370.0 Alpha: 0.009910481551887479\n",
      "Episode: 3600 Mean-Reward: 188.17 Max-Reward: 364.0 Alpha: 0.009910481551887479\n",
      "Episode: 3700 Mean-Reward: 179.69 Max-Reward: 300.0 Alpha: 0.009910481551887479\n",
      "Episode: 3800 Mean-Reward: 197.59 Max-Reward: 445.0 Alpha: 0.009910481551887479\n",
      "Episode: 3900 Mean-Reward: 195.98 Max-Reward: 422.0 Alpha: 0.009910481551887479\n",
      "Episode: 4000 Mean-Reward: 196.86 Max-Reward: 424.0 Alpha: 0.009910481551887479\n",
      "Episode: 4100 Mean-Reward: 190.98 Max-Reward: 418.0 Alpha: 0.009910481551887479\n",
      "Episode: 4200 Mean-Reward: 181.92 Max-Reward: 423.0 Alpha: 0.009910481551887479\n",
      "Episode: 4300 Mean-Reward: 180.86 Max-Reward: 391.0 Alpha: 0.009910481551887479\n",
      "Episode: 4400 Mean-Reward: 196.43 Max-Reward: 513.0 Alpha: 0.009910481551887479\n",
      "Episode: 4500 Mean-Reward: 212.39 Max-Reward: 1045.0 Alpha: 0.009910481551887479\n",
      "Episode: 4600 Mean-Reward: 184.37 Max-Reward: 505.0 Alpha: 0.009910481551887479\n",
      "Episode: 4700 Mean-Reward: 205.2 Max-Reward: 438.0 Alpha: 0.009910481551887479\n",
      "Episode: 4800 Mean-Reward: 201.32 Max-Reward: 441.0 Alpha: 0.009910481551887479\n",
      "Episode: 4900 Mean-Reward: 213.85 Max-Reward: 557.0 Alpha: 0.009910481551887479\n",
      "Episode: 5000 Mean-Reward: 251.22 Max-Reward: 850.0 Alpha: 0.009910481551887479\n",
      "Episode: 5100 Mean-Reward: 254.94 Max-Reward: 827.0 Alpha: 0.009910481551887479\n",
      "Episode: 5200 Mean-Reward: 264.75 Max-Reward: 1308.0 Alpha: 0.009910481551887479\n",
      "Episode: 5300 Mean-Reward: 271.31 Max-Reward: 1312.0 Alpha: 0.009910481551887479\n",
      "Episode: 5400 Mean-Reward: 226.58 Max-Reward: 708.0 Alpha: 0.009910481551887479\n",
      "Episode: 5500 Mean-Reward: 361.97 Max-Reward: 1792.0 Alpha: 0.009910481551887479\n",
      "Episode: 5600 Mean-Reward: 289.64 Max-Reward: 1121.0 Alpha: 0.009910481551887479\n",
      "Episode: 5700 Mean-Reward: 211.2 Max-Reward: 762.0 Alpha: 0.009910481551887479\n",
      "Episode: 5800 Mean-Reward: 220.23 Max-Reward: 836.0 Alpha: 0.009910481551887479\n",
      "Episode: 5900 Mean-Reward: 221.96 Max-Reward: 874.0 Alpha: 0.009910481551887479\n",
      "Episode: 6000 Mean-Reward: 215.56 Max-Reward: 1020.0 Alpha: 0.009910481551887479\n",
      "Episode: 6100 Mean-Reward: 244.72 Max-Reward: 709.0 Alpha: 0.009910481551887479\n",
      "Episode: 6200 Mean-Reward: 247.98 Max-Reward: 1347.0 Alpha: 0.009910481551887479\n",
      "Episode: 6300 Mean-Reward: 231.75 Max-Reward: 844.0 Alpha: 0.009910481551887479\n",
      "Episode: 6400 Mean-Reward: 214.87 Max-Reward: 726.0 Alpha: 0.009910481551887479\n",
      "Episode: 6500 Mean-Reward: 279.03 Max-Reward: 896.0 Alpha: 0.009910481551887479\n",
      "Episode: 6600 Mean-Reward: 282.61 Max-Reward: 998.0 Alpha: 0.009910481551887479\n",
      "Episode: 6700 Mean-Reward: 225.62 Max-Reward: 428.0 Alpha: 0.009910481551887479\n",
      "Episode: 6800 Mean-Reward: 251.0 Max-Reward: 724.0 Alpha: 0.009910481551887479\n",
      "Episode: 6900 Mean-Reward: 311.44 Max-Reward: 912.0 Alpha: 0.009910481551887479\n",
      "Episode: 7000 Mean-Reward: 282.55 Max-Reward: 1146.0 Alpha: 0.009910481551887479\n",
      "Episode: 7100 Mean-Reward: 237.57 Max-Reward: 791.0 Alpha: 0.009910481551887479\n",
      "Episode: 7200 Mean-Reward: 372.55 Max-Reward: 1523.0 Alpha: 0.009910481551887479\n",
      "Episode: 7300 Mean-Reward: 265.27 Max-Reward: 872.0 Alpha: 0.009910481551887479\n",
      "Episode: 7400 Mean-Reward: 272.06 Max-Reward: 881.0 Alpha: 0.009910481551887479\n",
      "Episode: 7500 Mean-Reward: 285.7 Max-Reward: 1728.0 Alpha: 0.009910481551887479\n",
      "Episode: 7600 Mean-Reward: 220.05 Max-Reward: 976.0 Alpha: 0.009910481551887479\n",
      "Episode: 7700 Mean-Reward: 238.65 Max-Reward: 673.0 Alpha: 0.009910481551887479\n",
      "Episode: 7800 Mean-Reward: 246.77 Max-Reward: 720.0 Alpha: 0.009910481551887479\n",
      "Episode: 7900 Mean-Reward: 240.21 Max-Reward: 563.0 Alpha: 0.009910481551887479\n",
      "Episode: 8000 Mean-Reward: 261.63 Max-Reward: 634.0 Alpha: 0.009910481551887479\n",
      "Episode: 8100 Mean-Reward: 261.18 Max-Reward: 871.0 Alpha: 0.009910481551887479\n",
      "Episode: 8200 Mean-Reward: 227.94 Max-Reward: 562.0 Alpha: 0.009910481551887479\n",
      "Episode: 8300 Mean-Reward: 249.06 Max-Reward: 710.0 Alpha: 0.009910481551887479\n",
      "Episode: 8400 Mean-Reward: 256.36 Max-Reward: 543.0 Alpha: 0.009910481551887479\n",
      "Episode: 8500 Mean-Reward: 262.92 Max-Reward: 677.0 Alpha: 0.009910481551887479\n",
      "Episode: 8600 Mean-Reward: 249.31 Max-Reward: 692.0 Alpha: 0.009910481551887479\n",
      "Episode: 8700 Mean-Reward: 276.4 Max-Reward: 1631.0 Alpha: 0.009910481551887479\n",
      "Episode: 8800 Mean-Reward: 226.86 Max-Reward: 605.0 Alpha: 0.009910481551887479\n",
      "Episode: 8900 Mean-Reward: 302.98 Max-Reward: 1294.0 Alpha: 0.009910481551887479\n",
      "Episode: 9000 Mean-Reward: 329.08 Max-Reward: 741.0 Alpha: 0.009910481551887479\n",
      "Episode: 9100 Mean-Reward: 264.44 Max-Reward: 737.0 Alpha: 0.009910481551887479\n",
      "Episode: 9200 Mean-Reward: 319.82 Max-Reward: 1055.0 Alpha: 0.009910481551887479\n",
      "Episode: 9300 Mean-Reward: 332.68 Max-Reward: 1049.0 Alpha: 0.009910481551887479\n"
     ]
    },
    {
     "name": "stdout",
     "output_type": "stream",
     "text": [
      "Episode: 9400 Mean-Reward: 234.95 Max-Reward: 870.0 Alpha: 0.009910481551887479\n",
      "Episode: 9500 Mean-Reward: 325.33 Max-Reward: 776.0 Alpha: 0.009910481551887479\n",
      "Episode: 9600 Mean-Reward: 286.7 Max-Reward: 688.0 Alpha: 0.009910481551887479\n",
      "Episode: 9700 Mean-Reward: 302.05 Max-Reward: 784.0 Alpha: 0.009910481551887479\n",
      "Episode: 9800 Mean-Reward: 273.95 Max-Reward: 708.0 Alpha: 0.009910481551887479\n",
      "Episode: 9900 Mean-Reward: 369.32 Max-Reward: 1181.0 Alpha: 0.009910481551887479\n",
      "Episode: 10000 Mean-Reward: 294.37 Max-Reward: 920.0 Alpha: 0.009910481551887479\n",
      "Episode: 10100 Mean-Reward: 262.53 Max-Reward: 777.0 Alpha: 0.009910481551887479\n",
      "Episode: 10200 Mean-Reward: 282.18 Max-Reward: 721.0 Alpha: 0.009910481551887479\n",
      "Episode: 10300 Mean-Reward: 319.58 Max-Reward: 835.0 Alpha: 0.009910481551887479\n",
      "Episode: 10400 Mean-Reward: 290.65 Max-Reward: 796.0 Alpha: 0.009910481551887479\n",
      "Episode: 10500 Mean-Reward: 284.18 Max-Reward: 636.0 Alpha: 0.009910481551887479\n",
      "Episode: 10600 Mean-Reward: 354.51 Max-Reward: 1064.0 Alpha: 0.009910481551887479\n",
      "Episode: 10700 Mean-Reward: 304.02 Max-Reward: 685.0 Alpha: 0.009910481551887479\n",
      "Episode: 10800 Mean-Reward: 263.02 Max-Reward: 618.0 Alpha: 0.009910481551887479\n",
      "Episode: 10900 Mean-Reward: 248.69 Max-Reward: 619.0 Alpha: 0.009910481551887479\n",
      "Episode: 11000 Mean-Reward: 272.15 Max-Reward: 646.0 Alpha: 0.009910481551887479\n",
      "Episode: 11100 Mean-Reward: 273.67 Max-Reward: 707.0 Alpha: 0.009910481551887479\n",
      "Episode: 11200 Mean-Reward: 249.87 Max-Reward: 733.0 Alpha: 0.009910481551887479\n",
      "Episode: 11300 Mean-Reward: 230.24 Max-Reward: 607.0 Alpha: 0.009910481551887479\n",
      "Episode: 11400 Mean-Reward: 259.79 Max-Reward: 805.0 Alpha: 0.009910481551887479\n",
      "Episode: 11500 Mean-Reward: 292.85 Max-Reward: 1127.0 Alpha: 0.009910481551887479\n",
      "Episode: 11600 Mean-Reward: 252.48 Max-Reward: 676.0 Alpha: 0.009910481551887479\n",
      "Episode: 11700 Mean-Reward: 244.39 Max-Reward: 696.0 Alpha: 0.009910481551887479\n",
      "Episode: 11800 Mean-Reward: 279.96 Max-Reward: 736.0 Alpha: 0.009910481551887479\n",
      "Episode: 11900 Mean-Reward: 272.57 Max-Reward: 539.0 Alpha: 0.009910481551887479\n",
      "Episode: 12000 Mean-Reward: 293.91 Max-Reward: 630.0 Alpha: 0.009910481551887479\n",
      "Episode: 12100 Mean-Reward: 299.29 Max-Reward: 1407.0 Alpha: 0.009910481551887479\n",
      "Episode: 12200 Mean-Reward: 315.08 Max-Reward: 761.0 Alpha: 0.009910481551887479\n",
      "Episode: 12300 Mean-Reward: 286.32 Max-Reward: 988.0 Alpha: 0.009910481551887479\n",
      "Episode: 12400 Mean-Reward: 350.67 Max-Reward: 1105.0 Alpha: 0.009910481551887479\n",
      "Episode: 12500 Mean-Reward: 361.13 Max-Reward: 1333.0 Alpha: 0.009910481551887479\n",
      "Episode: 12600 Mean-Reward: 278.55 Max-Reward: 701.0 Alpha: 0.009910481551887479\n",
      "Episode: 12700 Mean-Reward: 287.97 Max-Reward: 757.0 Alpha: 0.009910481551887479\n",
      "Episode: 12800 Mean-Reward: 284.16 Max-Reward: 556.0 Alpha: 0.009910481551887479\n",
      "Episode: 12900 Mean-Reward: 364.71 Max-Reward: 1089.0 Alpha: 0.009910481551887479\n",
      "Episode: 13000 Mean-Reward: 451.08 Max-Reward: 1496.0 Alpha: 0.009910481551887479\n",
      "Episode: 13100 Mean-Reward: 380.47 Max-Reward: 887.0 Alpha: 0.009910481551887479\n",
      "Episode: 13200 Mean-Reward: 319.11 Max-Reward: 1075.0 Alpha: 0.009910481551887479\n",
      "Episode: 13300 Mean-Reward: 277.57 Max-Reward: 793.0 Alpha: 0.009910481551887479\n",
      "Episode: 13400 Mean-Reward: 407.89 Max-Reward: 1010.0 Alpha: 0.009910481551887479\n",
      "Episode: 13500 Mean-Reward: 366.22 Max-Reward: 979.0 Alpha: 0.009910481551887479\n",
      "Episode: 13600 Mean-Reward: 418.23 Max-Reward: 1279.0 Alpha: 0.009910481551887479\n",
      "Episode: 13700 Mean-Reward: 378.91 Max-Reward: 908.0 Alpha: 0.009910481551887479\n",
      "Episode: 13800 Mean-Reward: 249.9 Max-Reward: 1013.0 Alpha: 0.009910481551887479\n",
      "Episode: 13900 Mean-Reward: 306.52 Max-Reward: 1102.0 Alpha: 0.009910481551887479\n",
      "Episode: 14000 Mean-Reward: 283.49 Max-Reward: 965.0 Alpha: 0.009910481551887479\n",
      "Episode: 14100 Mean-Reward: 342.17 Max-Reward: 924.0 Alpha: 0.009910481551887479\n",
      "Episode: 14200 Mean-Reward: 352.86 Max-Reward: 803.0 Alpha: 0.009910481551887479\n",
      "Episode: 14300 Mean-Reward: 366.58 Max-Reward: 957.0 Alpha: 0.009910481551887479\n",
      "Episode: 14400 Mean-Reward: 413.18 Max-Reward: 1672.0 Alpha: 0.009910481551887479\n",
      "Episode: 14500 Mean-Reward: 398.32 Max-Reward: 1355.0 Alpha: 0.009910481551887479\n",
      "Episode: 14600 Mean-Reward: 262.96 Max-Reward: 1045.0 Alpha: 0.009910481551887479\n",
      "Episode: 14700 Mean-Reward: 314.49 Max-Reward: 1021.0 Alpha: 0.009910481551887479\n",
      "Episode: 14800 Mean-Reward: 360.61 Max-Reward: 1127.0 Alpha: 0.009910481551887479\n",
      "Episode: 14900 Mean-Reward: 224.16 Max-Reward: 635.0 Alpha: 0.009910481551887479\n",
      "Episode: 15000 Mean-Reward: 339.09 Max-Reward: 984.0 Alpha: 0.009910481551887479\n",
      "Episode: 15100 Mean-Reward: 330.66 Max-Reward: 663.0 Alpha: 0.009910481551887479\n",
      "Episode: 15200 Mean-Reward: 352.09 Max-Reward: 696.0 Alpha: 0.009910481551887479\n",
      "Episode: 15300 Mean-Reward: 316.39 Max-Reward: 829.0 Alpha: 0.009910481551887479\n",
      "Episode: 15400 Mean-Reward: 323.11 Max-Reward: 645.0 Alpha: 0.009910481551887479\n",
      "Episode: 15500 Mean-Reward: 345.68 Max-Reward: 767.0 Alpha: 0.009910481551887479\n",
      "Episode: 15600 Mean-Reward: 296.38 Max-Reward: 660.0 Alpha: 0.009910481551887479\n",
      "Episode: 15700 Mean-Reward: 250.97 Max-Reward: 526.0 Alpha: 0.009910481551887479\n",
      "Episode: 15800 Mean-Reward: 303.59 Max-Reward: 752.0 Alpha: 0.009910481551887479\n",
      "Episode: 15900 Mean-Reward: 338.77 Max-Reward: 832.0 Alpha: 0.009910481551887479\n",
      "Episode: 16000 Mean-Reward: 407.01 Max-Reward: 1138.0 Alpha: 0.009910481551887479\n",
      "Episode: 16100 Mean-Reward: 366.38 Max-Reward: 1012.0 Alpha: 0.009910481551887479\n",
      "Episode: 16200 Mean-Reward: 432.41 Max-Reward: 1083.0 Alpha: 0.009910481551887479\n",
      "Episode: 16300 Mean-Reward: 493.43 Max-Reward: 1088.0 Alpha: 0.009910481551887479\n",
      "Episode: 16400 Mean-Reward: 370.26 Max-Reward: 1173.0 Alpha: 0.009910481551887479\n",
      "Episode: 16500 Mean-Reward: 549.58 Max-Reward: 1758.0 Alpha: 0.009910481551887479\n",
      "Episode: 16600 Mean-Reward: 444.59 Max-Reward: 1048.0 Alpha: 0.009910481551887479\n",
      "Episode: 16700 Mean-Reward: 463.16 Max-Reward: 1358.0 Alpha: 0.009910481551887479\n",
      "Episode: 16800 Mean-Reward: 421.69 Max-Reward: 1207.0 Alpha: 0.009910481551887479\n",
      "Episode: 16900 Mean-Reward: 445.92 Max-Reward: 1007.0 Alpha: 0.009910481551887479\n",
      "Episode: 17000 Mean-Reward: 436.67 Max-Reward: 1166.0 Alpha: 0.009910481551887479\n",
      "Episode: 17100 Mean-Reward: 462.17 Max-Reward: 1187.0 Alpha: 0.009910481551887479\n",
      "Episode: 17200 Mean-Reward: 330.12 Max-Reward: 873.0 Alpha: 0.009910481551887479\n",
      "Episode: 17300 Mean-Reward: 354.52 Max-Reward: 885.0 Alpha: 0.009910481551887479\n",
      "Episode: 17400 Mean-Reward: 378.77 Max-Reward: 1187.0 Alpha: 0.009910481551887479\n",
      "Episode: 17500 Mean-Reward: 328.08 Max-Reward: 924.0 Alpha: 0.009910481551887479\n",
      "Episode: 17600 Mean-Reward: 342.02 Max-Reward: 1002.0 Alpha: 0.009910481551887479\n",
      "Episode: 17700 Mean-Reward: 422.88 Max-Reward: 1387.0 Alpha: 0.009910481551887479\n",
      "Episode: 17800 Mean-Reward: 440.75 Max-Reward: 1166.0 Alpha: 0.009910481551887479\n",
      "Episode: 17900 Mean-Reward: 432.29 Max-Reward: 1437.0 Alpha: 0.009910481551887479\n",
      "Episode: 18000 Mean-Reward: 377.08 Max-Reward: 1062.0 Alpha: 0.009910481551887479\n",
      "Episode: 18100 Mean-Reward: 369.92 Max-Reward: 1404.0 Alpha: 0.009910481551887479\n",
      "Episode: 18200 Mean-Reward: 312.67 Max-Reward: 903.0 Alpha: 0.009910481551887479\n",
      "Episode: 18300 Mean-Reward: 378.02 Max-Reward: 1059.0 Alpha: 0.009910481551887479\n",
      "Episode: 18400 Mean-Reward: 394.5 Max-Reward: 949.0 Alpha: 0.009910481551887479\n",
      "Episode: 18500 Mean-Reward: 425.74 Max-Reward: 1002.0 Alpha: 0.009910481551887479\n",
      "Episode: 18600 Mean-Reward: 416.35 Max-Reward: 1121.0 Alpha: 0.009910481551887479\n",
      "Episode: 18700 Mean-Reward: 394.29 Max-Reward: 917.0 Alpha: 0.009910481551887479\n",
      "Episode: 18800 Mean-Reward: 383.75 Max-Reward: 1188.0 Alpha: 0.009910481551887479\n",
      "Episode: 18900 Mean-Reward: 346.45 Max-Reward: 894.0 Alpha: 0.009910481551887479\n",
      "Episode: 19000 Mean-Reward: 361.18 Max-Reward: 827.0 Alpha: 0.009910481551887479\n",
      "Episode: 19100 Mean-Reward: 441.71 Max-Reward: 1227.0 Alpha: 0.009910481551887479\n",
      "Episode: 19200 Mean-Reward: 404.77 Max-Reward: 920.0 Alpha: 0.009910481551887479\n",
      "Episode: 19300 Mean-Reward: 409.01 Max-Reward: 914.0 Alpha: 0.009910481551887479\n",
      "Episode: 19400 Mean-Reward: 378.36 Max-Reward: 969.0 Alpha: 0.009910481551887479\n"
     ]
    },
    {
     "name": "stdout",
     "output_type": "stream",
     "text": [
      "Episode: 19500 Mean-Reward: 385.17 Max-Reward: 1044.0 Alpha: 0.009910481551887479\n",
      "Episode: 19600 Mean-Reward: 408.39 Max-Reward: 1039.0 Alpha: 0.009910481551887479\n",
      "Episode: 19700 Mean-Reward: 346.32 Max-Reward: 970.0 Alpha: 0.009910481551887479\n",
      "Episode: 19800 Mean-Reward: 401.12 Max-Reward: 1308.0 Alpha: 0.009910481551887479\n",
      "Episode: 19900 Mean-Reward: 412.69 Max-Reward: 1210.0 Alpha: 0.009910481551887479\n",
      "Episode: 20000 Mean-Reward: 406.33 Max-Reward: 986.0 Alpha: 0.009910481551887479\n",
      "Episode: 20100 Mean-Reward: 440.86 Max-Reward: 1253.0 Alpha: 0.009910481551887479\n",
      "Episode: 20200 Mean-Reward: 383.47 Max-Reward: 960.0 Alpha: 0.009910481551887479\n",
      "Episode: 20300 Mean-Reward: 411.01 Max-Reward: 1328.0 Alpha: 0.009910481551887479\n"
     ]
    }
   ],
   "source": [
    "INTERVALS = create_state_intervals()\n",
    "\n",
    "for i in range(1):\n",
    "    print('EPISODE:', i)\n",
    "            \n",
    "    last100_rewards = deque(maxlen=100) # fifo queue\n",
    "    game_max = []\n",
    "    game_mean = []\n",
    "    solved = False\n",
    "    \n",
    "    q_table = init_q_table(get_all_possible_states(), [0, 1])\n",
    "    \n",
    "    \n",
    "    alpha = 0.1\n",
    "    gamma = 0.9\n",
    "          \n",
    "    for game in range(number_of_games):\n",
    "        \n",
    "        overall_reward, done = 0, False\n",
    "        observation = env.reset()\n",
    "        state = observation_to_state(observation)\n",
    "        \n",
    "        if alpha > 0.01:\n",
    "            alpha *= 0.99         \n",
    "        while not done:\n",
    "            if game % 1000 == 0: env.render()\n",
    "                       \n",
    "            action = get_action(q_table, state, alpha)\n",
    "\n",
    "            observation, reward, done, _ = env.step(action)\n",
    "            \n",
    "            next_state = observation_to_state(observation)\n",
    "            overall_reward += reward\n",
    "\n",
    "            if done: reward = -5000 # punish if agent dies\n",
    "                \n",
    "            update_q_table(q_table, state, action, next_state, reward, alpha, gamma)\n",
    "\n",
    "            state = next_state\n",
    "\n",
    "        if game % 100 == 0 and game != 0:\n",
    "            print('Episode:', game,  \n",
    "                  'Mean-Reward:', np.mean(last100_rewards), \n",
    "                  'Max-Reward:', max(last100_rewards),\n",
    "                  'Alpha:', alpha                     \n",
    "                 )\n",
    "            game_max.append(max(last100_rewards))\n",
    "            game_mean.append(np.mean(last100_rewards))\n",
    "            \n",
    "        if (np.mean(last100_rewards) >= 195) and not solved: \n",
    "            print('TASK COMPLETED LAST 100 GAMES HAD AN AVERAGE SCORE >=195 ON GAME', game)\n",
    "            print(last100_rewards)\n",
    "            solved = True\n",
    "                       \n",
    "        \n",
    "        last100_rewards.append(overall_reward) "
   ]
  },
  {
   "cell_type": "code",
   "execution_count": null,
   "metadata": {},
   "outputs": [],
   "source": []
  }
 ],
 "metadata": {
  "celltoolbar": "Initialization Cell",
  "kernelspec": {
   "display_name": "Python 3",
   "language": "python",
   "name": "python3"
  },
  "language_info": {
   "codemirror_mode": {
    "name": "ipython",
    "version": 3
   },
   "file_extension": ".py",
   "mimetype": "text/x-python",
   "name": "python",
   "nbconvert_exporter": "python",
   "pygments_lexer": "ipython3",
   "version": "3.7.3"
  },
  "toc": {
   "base_numbering": 1,
   "nav_menu": {},
   "number_sections": true,
   "sideBar": true,
   "skip_h1_title": false,
   "title_cell": "Table of Contents",
   "title_sidebar": "Contents",
   "toc_cell": false,
   "toc_position": {
    "height": "calc(100% - 180px)",
    "left": "10px",
    "top": "150px",
    "width": "361.594px"
   },
   "toc_section_display": true,
   "toc_window_display": false
  },
  "varInspector": {
   "cols": {
    "lenName": 16,
    "lenType": 16,
    "lenVar": 40
   },
   "kernels_config": {
    "python": {
     "delete_cmd_postfix": "",
     "delete_cmd_prefix": "del ",
     "library": "var_list.py",
     "varRefreshCmd": "print(var_dic_list())"
    },
    "r": {
     "delete_cmd_postfix": ") ",
     "delete_cmd_prefix": "rm(",
     "library": "var_list.r",
     "varRefreshCmd": "cat(var_dic_list()) "
    }
   },
   "position": {
    "height": "716px",
    "left": "1550px",
    "right": "20px",
    "top": "120px",
    "width": "350px"
   },
   "types_to_exclude": [
    "module",
    "function",
    "builtin_function_or_method",
    "instance",
    "_Feature"
   ],
   "window_display": true
  }
 },
 "nbformat": 4,
 "nbformat_minor": 2
}
